{
 "cells": [
  {
   "attachments": {},
   "cell_type": "markdown",
   "metadata": {},
   "source": [
    "# Preliminary analysis of the Dataset\n",
    "\n",
    "I just downloaded the dataset and want to determine the structure and the nature of variables in it"
   ]
  },
  {
   "cell_type": "code",
   "execution_count": 1,
   "metadata": {},
   "outputs": [
    {
     "data": {
      "text/html": [
       "<div>\n",
       "<style scoped>\n",
       "    .dataframe tbody tr th:only-of-type {\n",
       "        vertical-align: middle;\n",
       "    }\n",
       "\n",
       "    .dataframe tbody tr th {\n",
       "        vertical-align: top;\n",
       "    }\n",
       "\n",
       "    .dataframe thead th {\n",
       "        text-align: right;\n",
       "    }\n",
       "</style>\n",
       "<table border=\"1\" class=\"dataframe\">\n",
       "  <thead>\n",
       "    <tr style=\"text-align: right;\">\n",
       "      <th></th>\n",
       "      <th>url</th>\n",
       "      <th>name</th>\n",
       "      <th>stars</th>\n",
       "      <th>numberOfGuests</th>\n",
       "      <th>address</th>\n",
       "      <th>roomType</th>\n",
       "      <th>location</th>\n",
       "      <th>reviews</th>\n",
       "      <th>pricing</th>\n",
       "      <th>photos</th>\n",
       "      <th>primaryHost</th>\n",
       "      <th>additionalHosts</th>\n",
       "      <th>isHostedBySuperhost</th>\n",
       "      <th>isAvailable</th>\n",
       "      <th>calendar</th>\n",
       "      <th>occupancyPercentage</th>\n",
       "    </tr>\n",
       "  </thead>\n",
       "  <tbody>\n",
       "    <tr>\n",
       "      <th>0</th>\n",
       "      <td>https://www.airbnb.com/rooms/29073943</td>\n",
       "      <td>Fully Comfort Suite</td>\n",
       "      <td>4.89</td>\n",
       "      <td>6</td>\n",
       "      <td>Medellín, Antioquia, Colombia</td>\n",
       "      <td>Alojamiento entero: piso</td>\n",
       "      <td>{'lat': 6.20913, 'lng': -75.57003}</td>\n",
       "      <td>[]</td>\n",
       "      <td>{'rate': {'amount': 157, 'amountFormatted': '$...</td>\n",
       "      <td>[{'caption': '', 'pictureUrl': 'https://a0.mus...</td>\n",
       "      <td>{'id': 44166514, 'firstName': 'Diego', 'isSupe...</td>\n",
       "      <td>[{'id': 44214995, 'firstName': 'Leidy', 'isSup...</td>\n",
       "      <td>True</td>\n",
       "      <td>1.0</td>\n",
       "      <td>[{'available': False, 'date': '2023-06-15'}, {...</td>\n",
       "      <td>25.63</td>\n",
       "    </tr>\n",
       "    <tr>\n",
       "      <th>1</th>\n",
       "      <td>https://www.airbnb.com/rooms/12264506</td>\n",
       "      <td>Energy Spectacular Condo</td>\n",
       "      <td>4.73</td>\n",
       "      <td>5</td>\n",
       "      <td>Medellín, Antioquia, Colombia</td>\n",
       "      <td>Alojamiento entero: piso</td>\n",
       "      <td>{'lat': 6.211, 'lng': -75.559}</td>\n",
       "      <td>[]</td>\n",
       "      <td>{'rate': {'amount': 164, 'amountFormatted': '$...</td>\n",
       "      <td>[{'caption': '', 'pictureUrl': 'https://a0.mus...</td>\n",
       "      <td>{'id': 66051163, 'firstName': 'Nadia Marcela',...</td>\n",
       "      <td>[]</td>\n",
       "      <td>False</td>\n",
       "      <td>1.0</td>\n",
       "      <td>[{'available': False, 'date': '2023-06-15'}, {...</td>\n",
       "      <td>2.51</td>\n",
       "    </tr>\n",
       "  </tbody>\n",
       "</table>\n",
       "</div>"
      ],
      "text/plain": [
       "                                     url                      name  stars  \\\n",
       "0  https://www.airbnb.com/rooms/29073943       Fully Comfort Suite   4.89   \n",
       "1  https://www.airbnb.com/rooms/12264506  Energy Spectacular Condo   4.73   \n",
       "\n",
       "   numberOfGuests                        address                  roomType  \\\n",
       "0               6  Medellín, Antioquia, Colombia  Alojamiento entero: piso   \n",
       "1               5  Medellín, Antioquia, Colombia  Alojamiento entero: piso   \n",
       "\n",
       "                             location reviews  \\\n",
       "0  {'lat': 6.20913, 'lng': -75.57003}      []   \n",
       "1      {'lat': 6.211, 'lng': -75.559}      []   \n",
       "\n",
       "                                             pricing  \\\n",
       "0  {'rate': {'amount': 157, 'amountFormatted': '$...   \n",
       "1  {'rate': {'amount': 164, 'amountFormatted': '$...   \n",
       "\n",
       "                                              photos  \\\n",
       "0  [{'caption': '', 'pictureUrl': 'https://a0.mus...   \n",
       "1  [{'caption': '', 'pictureUrl': 'https://a0.mus...   \n",
       "\n",
       "                                         primaryHost  \\\n",
       "0  {'id': 44166514, 'firstName': 'Diego', 'isSupe...   \n",
       "1  {'id': 66051163, 'firstName': 'Nadia Marcela',...   \n",
       "\n",
       "                                     additionalHosts  isHostedBySuperhost  \\\n",
       "0  [{'id': 44214995, 'firstName': 'Leidy', 'isSup...                 True   \n",
       "1                                                 []                False   \n",
       "\n",
       "   isAvailable                                           calendar  \\\n",
       "0          1.0  [{'available': False, 'date': '2023-06-15'}, {...   \n",
       "1          1.0  [{'available': False, 'date': '2023-06-15'}, {...   \n",
       "\n",
       "   occupancyPercentage  \n",
       "0                25.63  \n",
       "1                 2.51  "
      ]
     },
     "execution_count": 1,
     "metadata": {},
     "output_type": "execute_result"
    }
   ],
   "source": [
    "import pandas as pd\n",
    "\n",
    "data = pd.read_json('dataset_airbnb-scraper_2023-06-15_04-09-43-538.json')\n",
    "data.head(2)"
   ]
  },
  {
   "cell_type": "code",
   "execution_count": 2,
   "metadata": {},
   "outputs": [
    {
     "data": {
      "text/plain": [
       "Index(['url', 'name', 'stars', 'numberOfGuests', 'address', 'roomType',\n",
       "       'location', 'reviews', 'pricing', 'photos', 'primaryHost',\n",
       "       'additionalHosts', 'isHostedBySuperhost', 'isAvailable', 'calendar',\n",
       "       'occupancyPercentage'],\n",
       "      dtype='object')"
      ]
     },
     "execution_count": 2,
     "metadata": {},
     "output_type": "execute_result"
    }
   ],
   "source": [
    "data.columns"
   ]
  },
  {
   "cell_type": "code",
   "execution_count": 3,
   "metadata": {},
   "outputs": [
    {
     "name": "stdout",
     "output_type": "stream",
     "text": [
      "|url|str|\n",
      "|name|str|\n",
      "|stars|float|\n",
      "|numberOfGuests|int|\n",
      "|address|str|\n",
      "|roomType|str|\n",
      "|location|dict|\n",
      "|reviews|list|\n",
      "|pricing|dict|\n",
      "|photos|list|\n",
      "|primaryHost|dict|\n",
      "|additionalHosts|list|\n",
      "|isHostedBySuperhost|bool|\n",
      "|isAvailable|float|\n",
      "|calendar|list|\n",
      "|occupancyPercentage|float|\n"
     ]
    }
   ],
   "source": [
    "import numpy as np\n",
    "for c in data.columns:\n",
    "    if type(data[c][0]) == str:\n",
    "        print('|'+c+'|str|')\n",
    "    elif isinstance(data[c][0], np.floating):\n",
    "        print('|'+c+'|float|')\n",
    "    elif isinstance(data[c][0], np.int64):\n",
    "        print('|'+c+'|int|')\n",
    "    elif type(data[c][0]) == list:\n",
    "        print('|'+c+'|list|')\n",
    "    elif type(data[c][0]) == dict:\n",
    "        print('|'+c+'|dict|')\n",
    "    elif isinstance(data[c][0], np.bool_):\n",
    "        print('|'+c+'|bool|')"
   ]
  },
  {
   "cell_type": "code",
   "execution_count": 15,
   "metadata": {},
   "outputs": [
    {
     "name": "stdout",
     "output_type": "stream",
     "text": [
      "Occupancy as calculated by Apify: 25.63\n"
     ]
    }
   ],
   "source": [
    "occup = data.occupancyPercentage[0]\n",
    "print('Occupancy as calculated by Apify:', occup)"
   ]
  },
  {
   "cell_type": "code",
   "execution_count": 22,
   "metadata": {},
   "outputs": [
    {
     "name": "stdout",
     "output_type": "stream",
     "text": [
      "Occupancy calculated with available days is consistent with the one in table\n"
     ]
    }
   ],
   "source": [
    "## Making sure the occupancyPercentage variable is what I think it is\n",
    "\n",
    "df = pd.DataFrame.from_dict(data.calendar[0])\n",
    "#print( df[df.available == True].count() )\n",
    "oc = df[df.available == False].count() * 100 / df.count()\n",
    "assert round(occup, 2) == round( oc.available, 2), \"Occupancy percentages are incosistent\"\n",
    "print('Occupancy calculated with available days is consistent with the one in table')"
   ]
  },
  {
   "cell_type": "code",
   "execution_count": null,
   "metadata": {},
   "outputs": [],
   "source": []
  },
  {
   "cell_type": "code",
   "execution_count": null,
   "metadata": {},
   "outputs": [],
   "source": []
  }
 ],
 "metadata": {
  "kernelspec": {
   "display_name": "juanpy",
   "language": "python",
   "name": "python3"
  },
  "language_info": {
   "codemirror_mode": {
    "name": "ipython",
    "version": 3
   },
   "file_extension": ".py",
   "mimetype": "text/x-python",
   "name": "python",
   "nbconvert_exporter": "python",
   "pygments_lexer": "ipython3",
   "version": "3.10.9"
  },
  "orig_nbformat": 4
 },
 "nbformat": 4,
 "nbformat_minor": 2
}
