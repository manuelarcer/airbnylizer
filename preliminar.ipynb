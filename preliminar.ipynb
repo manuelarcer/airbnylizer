{
 "cells": [
  {
   "attachments": {},
   "cell_type": "markdown",
   "metadata": {},
   "source": [
    "# Preliminary analysis of the Dataset\n",
    "\n",
    "I just downloaded the dataset and want to determine the structure and the nature of variables in it"
   ]
  },
  {
   "cell_type": "code",
   "execution_count": 1,
   "metadata": {},
   "outputs": [
    {
     "data": {
      "text/html": [
       "<div>\n",
       "<style scoped>\n",
       "    .dataframe tbody tr th:only-of-type {\n",
       "        vertical-align: middle;\n",
       "    }\n",
       "\n",
       "    .dataframe tbody tr th {\n",
       "        vertical-align: top;\n",
       "    }\n",
       "\n",
       "    .dataframe thead th {\n",
       "        text-align: right;\n",
       "    }\n",
       "</style>\n",
       "<table border=\"1\" class=\"dataframe\">\n",
       "  <thead>\n",
       "    <tr style=\"text-align: right;\">\n",
       "      <th></th>\n",
       "      <th>url</th>\n",
       "      <th>name</th>\n",
       "      <th>stars</th>\n",
       "      <th>numberOfGuests</th>\n",
       "      <th>address</th>\n",
       "      <th>roomType</th>\n",
       "      <th>location</th>\n",
       "      <th>reviews</th>\n",
       "      <th>pricing</th>\n",
       "      <th>photos</th>\n",
       "      <th>primaryHost</th>\n",
       "      <th>additionalHosts</th>\n",
       "      <th>isHostedBySuperhost</th>\n",
       "      <th>isAvailable</th>\n",
       "      <th>calendar</th>\n",
       "      <th>occupancyPercentage</th>\n",
       "    </tr>\n",
       "  </thead>\n",
       "  <tbody>\n",
       "    <tr>\n",
       "      <th>0</th>\n",
       "      <td>https://www.airbnb.com/rooms/53704335</td>\n",
       "      <td>☆PROVENZA♥A/C♥Homey Huge Apartment☆Reliable WiFi</td>\n",
       "      <td>4.88</td>\n",
       "      <td>4</td>\n",
       "      <td>Medellín, Antioquia, Colombia</td>\n",
       "      <td>Alojamiento entero: apto. residencial</td>\n",
       "      <td>{'lat': 6.204, 'lng': -75.564}</td>\n",
       "      <td>[]</td>\n",
       "      <td>{'rate': {'amount': 159, 'amountFormatted': '$...</td>\n",
       "      <td>[{'caption': '', 'pictureUrl': 'https://a0.mus...</td>\n",
       "      <td>{'id': 62803065, 'firstName': 'Alex', 'isSuper...</td>\n",
       "      <td>[{'id': 150001335, 'firstName': 'Mateo', 'isSu...</td>\n",
       "      <td>False</td>\n",
       "      <td>True</td>\n",
       "      <td>[{'available': False, 'date': '2023-06-08'}, {...</td>\n",
       "      <td>0.97</td>\n",
       "    </tr>\n",
       "    <tr>\n",
       "      <th>1</th>\n",
       "      <td>https://www.airbnb.com/rooms/34932589</td>\n",
       "      <td>Penhouse Medelllin</td>\n",
       "      <td>NaN</td>\n",
       "      <td>3</td>\n",
       "      <td>Medellín, Antioquia, Colombia</td>\n",
       "      <td>Alojamiento entero: apto. residencial</td>\n",
       "      <td>{'lat': 6.24723, 'lng': -75.59545}</td>\n",
       "      <td>[]</td>\n",
       "      <td>{'rate': {'amount': 237, 'amountFormatted': '$...</td>\n",
       "      <td>[{'caption': '', 'pictureUrl': 'https://a0.mus...</td>\n",
       "      <td>{'id': 261050529, 'firstName': 'Mary Luz', 'is...</td>\n",
       "      <td>[]</td>\n",
       "      <td>False</td>\n",
       "      <td>True</td>\n",
       "      <td>[{'available': False, 'date': '2023-06-08'}, {...</td>\n",
       "      <td>3.40</td>\n",
       "    </tr>\n",
       "  </tbody>\n",
       "</table>\n",
       "</div>"
      ],
      "text/plain": [
       "                                     url  \\\n",
       "0  https://www.airbnb.com/rooms/53704335   \n",
       "1  https://www.airbnb.com/rooms/34932589   \n",
       "\n",
       "                                               name  stars  numberOfGuests  \\\n",
       "0  ☆PROVENZA♥A/C♥Homey Huge Apartment☆Reliable WiFi   4.88               4   \n",
       "1                                Penhouse Medelllin    NaN               3   \n",
       "\n",
       "                         address                               roomType  \\\n",
       "0  Medellín, Antioquia, Colombia  Alojamiento entero: apto. residencial   \n",
       "1  Medellín, Antioquia, Colombia  Alojamiento entero: apto. residencial   \n",
       "\n",
       "                             location reviews  \\\n",
       "0      {'lat': 6.204, 'lng': -75.564}      []   \n",
       "1  {'lat': 6.24723, 'lng': -75.59545}      []   \n",
       "\n",
       "                                             pricing  \\\n",
       "0  {'rate': {'amount': 159, 'amountFormatted': '$...   \n",
       "1  {'rate': {'amount': 237, 'amountFormatted': '$...   \n",
       "\n",
       "                                              photos  \\\n",
       "0  [{'caption': '', 'pictureUrl': 'https://a0.mus...   \n",
       "1  [{'caption': '', 'pictureUrl': 'https://a0.mus...   \n",
       "\n",
       "                                         primaryHost  \\\n",
       "0  {'id': 62803065, 'firstName': 'Alex', 'isSuper...   \n",
       "1  {'id': 261050529, 'firstName': 'Mary Luz', 'is...   \n",
       "\n",
       "                                     additionalHosts  isHostedBySuperhost  \\\n",
       "0  [{'id': 150001335, 'firstName': 'Mateo', 'isSu...                False   \n",
       "1                                                 []                False   \n",
       "\n",
       "   isAvailable                                           calendar  \\\n",
       "0         True  [{'available': False, 'date': '2023-06-08'}, {...   \n",
       "1         True  [{'available': False, 'date': '2023-06-08'}, {...   \n",
       "\n",
       "   occupancyPercentage  \n",
       "0                 0.97  \n",
       "1                 3.40  "
      ]
     },
     "execution_count": 1,
     "metadata": {},
     "output_type": "execute_result"
    }
   ],
   "source": [
    "import pandas as pd\n",
    "\n",
    "data = pd.read_json('dataset_airbnb-scraper_2023-06-08_14-57-41-189.json')\n",
    "data.head(2)"
   ]
  },
  {
   "cell_type": "code",
   "execution_count": 2,
   "metadata": {},
   "outputs": [
    {
     "data": {
      "text/plain": [
       "Index(['url', 'name', 'stars', 'numberOfGuests', 'address', 'roomType',\n",
       "       'location', 'reviews', 'pricing', 'photos', 'primaryHost',\n",
       "       'additionalHosts', 'isHostedBySuperhost', 'isAvailable', 'calendar',\n",
       "       'occupancyPercentage'],\n",
       "      dtype='object')"
      ]
     },
     "execution_count": 2,
     "metadata": {},
     "output_type": "execute_result"
    }
   ],
   "source": [
    "data.columns"
   ]
  },
  {
   "cell_type": "code",
   "execution_count": 3,
   "metadata": {},
   "outputs": [
    {
     "name": "stdout",
     "output_type": "stream",
     "text": [
      "|url|str|\n",
      "|name|str|\n",
      "|stars|float|\n",
      "|numberOfGuests|int|\n",
      "|address|str|\n",
      "|roomType|str|\n",
      "|location|dict|\n",
      "|reviews|list|\n",
      "|pricing|dict|\n",
      "|photos|list|\n",
      "|primaryHost|dict|\n",
      "|additionalHosts|list|\n",
      "|isHostedBySuperhost|bool|\n",
      "|isAvailable|bool|\n",
      "|calendar|list|\n",
      "|occupancyPercentage|float|\n"
     ]
    }
   ],
   "source": [
    "import numpy as np\n",
    "for c in data.columns:\n",
    "    if type(data[c][0]) == str:\n",
    "        print('|'+c+'|str|')\n",
    "    elif isinstance(data[c][0], np.floating):\n",
    "        print('|'+c+'|float|')\n",
    "    elif isinstance(data[c][0], np.int64):\n",
    "        print('|'+c+'|int|')\n",
    "    elif type(data[c][0]) == list:\n",
    "        print('|'+c+'|list|')\n",
    "    elif type(data[c][0]) == dict:\n",
    "        print('|'+c+'|dict|')\n",
    "    elif isinstance(data[c][0], np.bool_):\n",
    "        print('|'+c+'|bool|')"
   ]
  },
  {
   "cell_type": "code",
   "execution_count": 4,
   "metadata": {},
   "outputs": [
    {
     "data": {
      "text/plain": [
       "0.97"
      ]
     },
     "execution_count": 4,
     "metadata": {},
     "output_type": "execute_result"
    }
   ],
   "source": [
    "data.occupancyPercentage[0]"
   ]
  },
  {
   "cell_type": "code",
   "execution_count": null,
   "metadata": {},
   "outputs": [],
   "source": [
    "## Making sure the occupancyPercentage variable is what I think it is\n",
    "\n",
    "df = pd.DataFrame.from_dict(data.calendar[0])\n",
    "print( df[df.available == True].count() )\n",
    "df[df.available == False].count() * 100 / df.count()"
   ]
  }
 ],
 "metadata": {
  "kernelspec": {
   "display_name": "juanpy",
   "language": "python",
   "name": "python3"
  },
  "language_info": {
   "codemirror_mode": {
    "name": "ipython",
    "version": 3
   },
   "file_extension": ".py",
   "mimetype": "text/x-python",
   "name": "python",
   "nbconvert_exporter": "python",
   "pygments_lexer": "ipython3",
   "version": "3.10.9"
  },
  "orig_nbformat": 4
 },
 "nbformat": 4,
 "nbformat_minor": 2
}
