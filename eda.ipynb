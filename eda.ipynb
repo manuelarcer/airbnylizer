{
 "cells": [
  {
   "attachments": {},
   "cell_type": "markdown",
   "metadata": {},
   "source": [
    "Airbnb scraper by APIFY\n",
    "https://apify.com/dtrungtin/airbnb-scraper\n",
    "\n",
    "## Dataset structure\n",
    "\n",
    "Here we are dealing with database with few columns (we specified excel-friendly format). I suppose you can get more information and complex dataset by changing that option\n",
    "\n",
    "This dataset was extracted on **08-June-2023** and the scrape period was **6 months**\n",
    "\n",
    "`dataset_airbnb-scraper_2023-06-08_14-57-41-189.json`\n",
    "\n",
    "|Column|Type|Description|\n",
    "|------|----|-----------|\n",
    "|url|str|URL of the listing|\n",
    "|name|str|Name of the listing|\n",
    "|stars|float|Star grading of the listing|\n",
    "|numberOfGuests|int|Max number of occupants|\n",
    "|address|str|City, State, Country|\n",
    "|roomType|str|Type of the listing (e.g., Full apartment, house)|\n",
    "|location|dict|`{lat, lng}`|\n",
    "|reviews|list||\n",
    "|pricing|dict|Dictionary containing currency, rate, etc|\n",
    "|photos|list|URL's with photos of the listing|\n",
    "|primaryHost|dict|Details of the host|\n",
    "|additionalHosts|list|More Details about the host|\n",
    "|isHostedBySuperhost|bool|Is the host SuperHost?|\n",
    "|isAvailable|bool|Is the listing Available?|\n",
    "|calendar|list|List with pairs of values `{Available, Date}`|\n",
    "|occupancyPercentage|float|Percentage of occupancy in the specified period|\n",
    "\n",
    "* Table made with the information extracted from the `preliminar.ipynb` notebook "
   ]
  },
  {
   "cell_type": "code",
   "execution_count": 1,
   "metadata": {},
   "outputs": [
    {
     "data": {
      "text/plain": [
       "Index(['url', 'name', 'stars', 'numberOfGuests', 'address', 'roomType',\n",
       "       'location', 'reviews', 'pricing', 'photos', 'primaryHost',\n",
       "       'additionalHosts', 'isHostedBySuperhost', 'isAvailable', 'calendar',\n",
       "       'occupancyPercentage'],\n",
       "      dtype='object')"
      ]
     },
     "execution_count": 1,
     "metadata": {},
     "output_type": "execute_result"
    }
   ],
   "source": [
    "import pandas as pd\n",
    "\n",
    "data = pd.read_json('dataset_airbnb-scraper_2023-06-08_14-57-41-189.json')\n",
    "data.columns"
   ]
  },
  {
   "cell_type": "code",
   "execution_count": null,
   "metadata": {},
   "outputs": [],
   "source": []
  }
 ],
 "metadata": {
  "kernelspec": {
   "display_name": "juanpy",
   "language": "python",
   "name": "python3"
  },
  "language_info": {
   "codemirror_mode": {
    "name": "ipython",
    "version": 3
   },
   "file_extension": ".py",
   "mimetype": "text/x-python",
   "name": "python",
   "nbconvert_exporter": "python",
   "pygments_lexer": "ipython3",
   "version": "3.10.9"
  },
  "orig_nbformat": 4
 },
 "nbformat": 4,
 "nbformat_minor": 2
}
