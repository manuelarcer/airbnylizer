{
 "cells": [
  {
   "attachments": {},
   "cell_type": "markdown",
   "metadata": {},
   "source": [
    "Airbnb scraper by APIFY\n",
    "https://apify.com/dtrungtin/airbnb-scraper\n",
    "\n",
    "## Dataset structure\n",
    "\n",
    "Here we are dealing with database with few columns (we specified excel-friendly format). I suppose you can get more information and complex dataset by changing that option\n",
    "\n",
    "This dataset was extracted on **08-June-2023** and the scrape period was **6 months**\n",
    "\n",
    "`dataset_airbnb-scraper_2023-06-08_14-57-41-189.json`\n",
    "\n",
    "|Column|Type|Description|\n",
    "|------|----|-----------|\n",
    "|url|str|URL of the listing|\n",
    "|name|str|Name of the listing|\n",
    "|stars|float|Star grading of the listing|\n",
    "|numberOfGuests|int|Max number of occupants|\n",
    "|address|str|City, State, Country|\n",
    "|roomType|str|Type of the listing (e.g., Full apartment, house)|\n",
    "|location|dict|`{lat, lng}`|\n",
    "|reviews|list||\n",
    "|pricing|dict|Dictionary containing currency, rate, etc|\n",
    "|photos|list|URL's with photos of the listing|\n",
    "|primaryHost|dict|Details of the host|\n",
    "|additionalHosts|list|More Details about the host|\n",
    "|isHostedBySuperhost|bool|Is the host SuperHost?|\n",
    "|isAvailable|bool|Is the listing Available?|\n",
    "|calendar|list|List with pairs of values `{Available, Date}`|\n",
    "|occupancyPercentage|float|Percentage of occupancy in the specified period|\n",
    "\n",
    "* Table made with the information extracted from the `preliminar.ipynb` notebook "
   ]
  },
  {
   "cell_type": "code",
   "execution_count": 8,
   "metadata": {},
   "outputs": [
    {
     "data": {
      "text/plain": [
       "Index(['url', 'name', 'stars', 'numberOfGuests', 'address', 'roomType',\n",
       "       'location', 'reviews', 'pricing', 'photos', 'primaryHost',\n",
       "       'additionalHosts', 'isHostedBySuperhost', 'isAvailable', 'calendar',\n",
       "       'occupancyPercentage'],\n",
       "      dtype='object')"
      ]
     },
     "execution_count": 8,
     "metadata": {},
     "output_type": "execute_result"
    }
   ],
   "source": [
    "import pandas as pd\n",
    "import matplotlib.pyplot as plt\n",
    "import seaborn as sns\n",
    "\n",
    "data = pd.read_json('dataset_airbnb-scraper_2023-06-15_04-09-43-538.json')\n",
    "data.columns"
   ]
  },
  {
   "cell_type": "code",
   "execution_count": 9,
   "metadata": {},
   "outputs": [
    {
     "data": {
      "text/html": [
       "<div>\n",
       "<style scoped>\n",
       "    .dataframe tbody tr th:only-of-type {\n",
       "        vertical-align: middle;\n",
       "    }\n",
       "\n",
       "    .dataframe tbody tr th {\n",
       "        vertical-align: top;\n",
       "    }\n",
       "\n",
       "    .dataframe thead th {\n",
       "        text-align: right;\n",
       "    }\n",
       "</style>\n",
       "<table border=\"1\" class=\"dataframe\">\n",
       "  <thead>\n",
       "    <tr style=\"text-align: right;\">\n",
       "      <th></th>\n",
       "      <th>name</th>\n",
       "      <th>stars</th>\n",
       "      <th>numberOfGuests</th>\n",
       "      <th>roomType</th>\n",
       "      <th>location</th>\n",
       "      <th>pricing</th>\n",
       "      <th>isHostedBySuperhost</th>\n",
       "      <th>occupancyPercentage</th>\n",
       "    </tr>\n",
       "  </thead>\n",
       "  <tbody>\n",
       "    <tr>\n",
       "      <th>0</th>\n",
       "      <td>Fully Comfort Suite</td>\n",
       "      <td>4.89</td>\n",
       "      <td>6</td>\n",
       "      <td>Alojamiento entero: piso</td>\n",
       "      <td>{'lat': 6.20913, 'lng': -75.57003}</td>\n",
       "      <td>{'rate': {'amount': 157, 'amountFormatted': '$...</td>\n",
       "      <td>True</td>\n",
       "      <td>25.63</td>\n",
       "    </tr>\n",
       "    <tr>\n",
       "      <th>1</th>\n",
       "      <td>Energy Spectacular Condo</td>\n",
       "      <td>4.73</td>\n",
       "      <td>5</td>\n",
       "      <td>Alojamiento entero: piso</td>\n",
       "      <td>{'lat': 6.211, 'lng': -75.559}</td>\n",
       "      <td>{'rate': {'amount': 164, 'amountFormatted': '$...</td>\n",
       "      <td>False</td>\n",
       "      <td>2.51</td>\n",
       "    </tr>\n",
       "    <tr>\n",
       "      <th>2</th>\n",
       "      <td>Parque Lleras King w/AC &amp; Guest Friendly, 100 ...</td>\n",
       "      <td>4.37</td>\n",
       "      <td>10</td>\n",
       "      <td>Alojamiento entero: piso</td>\n",
       "      <td>{'lat': 6.20702, 'lng': -75.56443}</td>\n",
       "      <td>{'rate': {'amount': 187, 'amountFormatted': '$...</td>\n",
       "      <td>False</td>\n",
       "      <td>35.68</td>\n",
       "    </tr>\n",
       "    <tr>\n",
       "      <th>3</th>\n",
       "      <td>CHIC HOUSE LOFT - Sanctuary in the City #2</td>\n",
       "      <td>4.78</td>\n",
       "      <td>10</td>\n",
       "      <td>Alojamiento entero: vivienda</td>\n",
       "      <td>{'lat': 6.246, 'lng': -75.591}</td>\n",
       "      <td>{'rate': {'amount': 154, 'amountFormatted': '$...</td>\n",
       "      <td>True</td>\n",
       "      <td>27.14</td>\n",
       "    </tr>\n",
       "    <tr>\n",
       "      <th>4</th>\n",
       "      <td>Cabaña en Santa Elena / Medellín</td>\n",
       "      <td>4.81</td>\n",
       "      <td>2</td>\n",
       "      <td>Granja</td>\n",
       "      <td>{'lat': 6.20326, 'lng': -75.53043}</td>\n",
       "      <td>{'rate': {'amount': 163, 'amountFormatted': '$...</td>\n",
       "      <td>False</td>\n",
       "      <td>5.03</td>\n",
       "    </tr>\n",
       "  </tbody>\n",
       "</table>\n",
       "</div>"
      ],
      "text/plain": [
       "                                                name  stars  numberOfGuests  \\\n",
       "0                                Fully Comfort Suite   4.89               6   \n",
       "1                           Energy Spectacular Condo   4.73               5   \n",
       "2  Parque Lleras King w/AC & Guest Friendly, 100 ...   4.37              10   \n",
       "3         CHIC HOUSE LOFT - Sanctuary in the City #2   4.78              10   \n",
       "4                   Cabaña en Santa Elena / Medellín   4.81               2   \n",
       "\n",
       "                       roomType                            location  \\\n",
       "0      Alojamiento entero: piso  {'lat': 6.20913, 'lng': -75.57003}   \n",
       "1      Alojamiento entero: piso      {'lat': 6.211, 'lng': -75.559}   \n",
       "2      Alojamiento entero: piso  {'lat': 6.20702, 'lng': -75.56443}   \n",
       "3  Alojamiento entero: vivienda      {'lat': 6.246, 'lng': -75.591}   \n",
       "4                        Granja  {'lat': 6.20326, 'lng': -75.53043}   \n",
       "\n",
       "                                             pricing  isHostedBySuperhost  \\\n",
       "0  {'rate': {'amount': 157, 'amountFormatted': '$...                 True   \n",
       "1  {'rate': {'amount': 164, 'amountFormatted': '$...                False   \n",
       "2  {'rate': {'amount': 187, 'amountFormatted': '$...                False   \n",
       "3  {'rate': {'amount': 154, 'amountFormatted': '$...                 True   \n",
       "4  {'rate': {'amount': 163, 'amountFormatted': '$...                False   \n",
       "\n",
       "   occupancyPercentage  \n",
       "0                25.63  \n",
       "1                 2.51  \n",
       "2                35.68  \n",
       "3                27.14  \n",
       "4                 5.03  "
      ]
     },
     "execution_count": 9,
     "metadata": {},
     "output_type": "execute_result"
    }
   ],
   "source": [
    "df = data[['name', 'stars', 'numberOfGuests', 'roomType', 'location', 'pricing',\n",
    "            'isHostedBySuperhost', 'occupancyPercentage']].copy()\n",
    "df.head()"
   ]
  },
  {
   "cell_type": "code",
   "execution_count": 10,
   "metadata": {},
   "outputs": [
    {
     "data": {
      "text/plain": [
       "{'lat': 6.20913, 'lng': -75.57003}"
      ]
     },
     "execution_count": 10,
     "metadata": {},
     "output_type": "execute_result"
    }
   ],
   "source": [
    "data.location[0]"
   ]
  },
  {
   "cell_type": "code",
   "execution_count": 11,
   "metadata": {},
   "outputs": [
    {
     "data": {
      "text/html": [
       "<div>\n",
       "<style scoped>\n",
       "    .dataframe tbody tr th:only-of-type {\n",
       "        vertical-align: middle;\n",
       "    }\n",
       "\n",
       "    .dataframe tbody tr th {\n",
       "        vertical-align: top;\n",
       "    }\n",
       "\n",
       "    .dataframe thead th {\n",
       "        text-align: right;\n",
       "    }\n",
       "</style>\n",
       "<table border=\"1\" class=\"dataframe\">\n",
       "  <thead>\n",
       "    <tr style=\"text-align: right;\">\n",
       "      <th></th>\n",
       "      <th>name</th>\n",
       "      <th>stars</th>\n",
       "      <th>numberOfGuests</th>\n",
       "      <th>occupancyPercentage</th>\n",
       "      <th>pricepernight</th>\n",
       "      <th>propertyType</th>\n",
       "      <th>superhost</th>\n",
       "      <th>latitude</th>\n",
       "      <th>longitude</th>\n",
       "    </tr>\n",
       "  </thead>\n",
       "  <tbody>\n",
       "    <tr>\n",
       "      <th>0</th>\n",
       "      <td>Fully Comfort Suite</td>\n",
       "      <td>4.89</td>\n",
       "      <td>6</td>\n",
       "      <td>25.63</td>\n",
       "      <td>157</td>\n",
       "      <td>apartamento</td>\n",
       "      <td>1</td>\n",
       "      <td>6.20913</td>\n",
       "      <td>-75.57003</td>\n",
       "    </tr>\n",
       "    <tr>\n",
       "      <th>1</th>\n",
       "      <td>Energy Spectacular Condo</td>\n",
       "      <td>4.73</td>\n",
       "      <td>5</td>\n",
       "      <td>2.51</td>\n",
       "      <td>164</td>\n",
       "      <td>apartamento</td>\n",
       "      <td>0</td>\n",
       "      <td>6.21100</td>\n",
       "      <td>-75.55900</td>\n",
       "    </tr>\n",
       "    <tr>\n",
       "      <th>2</th>\n",
       "      <td>Parque Lleras King w/AC &amp; Guest Friendly, 100 ...</td>\n",
       "      <td>4.37</td>\n",
       "      <td>10</td>\n",
       "      <td>35.68</td>\n",
       "      <td>187</td>\n",
       "      <td>apartamento</td>\n",
       "      <td>0</td>\n",
       "      <td>6.20702</td>\n",
       "      <td>-75.56443</td>\n",
       "    </tr>\n",
       "    <tr>\n",
       "      <th>3</th>\n",
       "      <td>CHIC HOUSE LOFT - Sanctuary in the City #2</td>\n",
       "      <td>4.78</td>\n",
       "      <td>10</td>\n",
       "      <td>27.14</td>\n",
       "      <td>154</td>\n",
       "      <td>casa</td>\n",
       "      <td>1</td>\n",
       "      <td>6.24600</td>\n",
       "      <td>-75.59100</td>\n",
       "    </tr>\n",
       "    <tr>\n",
       "      <th>4</th>\n",
       "      <td>Cabaña en Santa Elena / Medellín</td>\n",
       "      <td>4.81</td>\n",
       "      <td>2</td>\n",
       "      <td>5.03</td>\n",
       "      <td>163</td>\n",
       "      <td>None</td>\n",
       "      <td>0</td>\n",
       "      <td>6.20326</td>\n",
       "      <td>-75.53043</td>\n",
       "    </tr>\n",
       "    <tr>\n",
       "      <th>...</th>\n",
       "      <td>...</td>\n",
       "      <td>...</td>\n",
       "      <td>...</td>\n",
       "      <td>...</td>\n",
       "      <td>...</td>\n",
       "      <td>...</td>\n",
       "      <td>...</td>\n",
       "      <td>...</td>\n",
       "      <td>...</td>\n",
       "    </tr>\n",
       "    <tr>\n",
       "      <th>1204</th>\n",
       "      <td>23th high floor.poblado location, in Medellin</td>\n",
       "      <td>4.88</td>\n",
       "      <td>3</td>\n",
       "      <td>100.00</td>\n",
       "      <td>55</td>\n",
       "      <td>apartamento</td>\n",
       "      <td>0</td>\n",
       "      <td>6.21602</td>\n",
       "      <td>-75.56780</td>\n",
       "    </tr>\n",
       "    <tr>\n",
       "      <th>1205</th>\n",
       "      <td>Laureles, Medellin!  Wifi 300MBPS</td>\n",
       "      <td>4.80</td>\n",
       "      <td>4</td>\n",
       "      <td>0.00</td>\n",
       "      <td>57</td>\n",
       "      <td>apartamento</td>\n",
       "      <td>1</td>\n",
       "      <td>6.24261</td>\n",
       "      <td>-75.60317</td>\n",
       "    </tr>\n",
       "    <tr>\n",
       "      <th>1206</th>\n",
       "      <td>Big apartment in the middle of poblado</td>\n",
       "      <td>4.75</td>\n",
       "      <td>6</td>\n",
       "      <td>8.04</td>\n",
       "      <td>55</td>\n",
       "      <td>casa</td>\n",
       "      <td>0</td>\n",
       "      <td>6.21166</td>\n",
       "      <td>-75.57414</td>\n",
       "    </tr>\n",
       "    <tr>\n",
       "      <th>1207</th>\n",
       "      <td>Modern&amp;Spacious 3'bedr apt, in perfect location</td>\n",
       "      <td>4.97</td>\n",
       "      <td>6</td>\n",
       "      <td>31.16</td>\n",
       "      <td>54</td>\n",
       "      <td>apartamento</td>\n",
       "      <td>1</td>\n",
       "      <td>6.24866</td>\n",
       "      <td>-75.59648</td>\n",
       "    </tr>\n",
       "    <tr>\n",
       "      <th>1208</th>\n",
       "      <td>Apartamento Lujoso Nuevo 3 habitaciones Alcala...</td>\n",
       "      <td>4.60</td>\n",
       "      <td>5</td>\n",
       "      <td>29.65</td>\n",
       "      <td>55</td>\n",
       "      <td>apartamento</td>\n",
       "      <td>0</td>\n",
       "      <td>6.17068</td>\n",
       "      <td>-75.59183</td>\n",
       "    </tr>\n",
       "  </tbody>\n",
       "</table>\n",
       "<p>1209 rows × 9 columns</p>\n",
       "</div>"
      ],
      "text/plain": [
       "                                                   name  stars  \\\n",
       "0                                   Fully Comfort Suite   4.89   \n",
       "1                              Energy Spectacular Condo   4.73   \n",
       "2     Parque Lleras King w/AC & Guest Friendly, 100 ...   4.37   \n",
       "3            CHIC HOUSE LOFT - Sanctuary in the City #2   4.78   \n",
       "4                      Cabaña en Santa Elena / Medellín   4.81   \n",
       "...                                                 ...    ...   \n",
       "1204      23th high floor.poblado location, in Medellin   4.88   \n",
       "1205                  Laureles, Medellin!  Wifi 300MBPS   4.80   \n",
       "1206             Big apartment in the middle of poblado   4.75   \n",
       "1207    Modern&Spacious 3'bedr apt, in perfect location   4.97   \n",
       "1208  Apartamento Lujoso Nuevo 3 habitaciones Alcala...   4.60   \n",
       "\n",
       "      numberOfGuests  occupancyPercentage  pricepernight propertyType  \\\n",
       "0                  6                25.63            157  apartamento   \n",
       "1                  5                 2.51            164  apartamento   \n",
       "2                 10                35.68            187  apartamento   \n",
       "3                 10                27.14            154         casa   \n",
       "4                  2                 5.03            163         None   \n",
       "...              ...                  ...            ...          ...   \n",
       "1204               3               100.00             55  apartamento   \n",
       "1205               4                 0.00             57  apartamento   \n",
       "1206               6                 8.04             55         casa   \n",
       "1207               6                31.16             54  apartamento   \n",
       "1208               5                29.65             55  apartamento   \n",
       "\n",
       "      superhost  latitude  longitude  \n",
       "0             1   6.20913  -75.57003  \n",
       "1             0   6.21100  -75.55900  \n",
       "2             0   6.20702  -75.56443  \n",
       "3             1   6.24600  -75.59100  \n",
       "4             0   6.20326  -75.53043  \n",
       "...         ...       ...        ...  \n",
       "1204          0   6.21602  -75.56780  \n",
       "1205          1   6.24261  -75.60317  \n",
       "1206          0   6.21166  -75.57414  \n",
       "1207          1   6.24866  -75.59648  \n",
       "1208          0   6.17068  -75.59183  \n",
       "\n",
       "[1209 rows x 9 columns]"
      ]
     },
     "execution_count": 11,
     "metadata": {},
     "output_type": "execute_result"
    }
   ],
   "source": [
    "def typeofproperty(p):\n",
    "    if 'hotel' in p:\n",
    "        return 'hotel'\n",
    "    elif 'habit' in p or 'piso' in p or 'loft' in p or 'privada' in p or 'apartamento' in p or 'apto. residencial' in p:\n",
    "        return 'apartamento'\n",
    "    elif 'casa' in p or 'granja' in p or 'villa' in p or 'adosado' in p:\n",
    "        return 'casa'\n",
    "    elif 'entero' in p and 'vivienda' in p:\n",
    "        return 'casa'\n",
    "\n",
    "\n",
    "\n",
    "df['pricepernight'] = df['pricing'].apply(lambda x: x['rate']['amount'])\n",
    "df['propertyType'] = df.roomType.apply(typeofproperty)\n",
    "\n",
    "df['superhost']  = df.isHostedBySuperhost.apply(lambda x: 1 if x == True else 0)\n",
    "df['latitude'] = df.location.apply(lambda x: x['lat'])\n",
    "df['longitude'] = df.location.apply(lambda x: x['lng'])\n",
    "df.drop(columns=['pricing', 'roomType', 'location', 'isHostedBySuperhost'], inplace=True)\n",
    "df"
   ]
  },
  {
   "cell_type": "code",
   "execution_count": 14,
   "metadata": {},
   "outputs": [
    {
     "data": {
      "text/html": [
       "<div>\n",
       "<style scoped>\n",
       "    .dataframe tbody tr th:only-of-type {\n",
       "        vertical-align: middle;\n",
       "    }\n",
       "\n",
       "    .dataframe tbody tr th {\n",
       "        vertical-align: top;\n",
       "    }\n",
       "\n",
       "    .dataframe thead th {\n",
       "        text-align: right;\n",
       "    }\n",
       "</style>\n",
       "<table border=\"1\" class=\"dataframe\">\n",
       "  <thead>\n",
       "    <tr style=\"text-align: right;\">\n",
       "      <th></th>\n",
       "      <th>stars</th>\n",
       "      <th>numberOfGuests</th>\n",
       "      <th>occupancyPercentage</th>\n",
       "      <th>pricepernight</th>\n",
       "      <th>superhost</th>\n",
       "      <th>latitude</th>\n",
       "      <th>longitude</th>\n",
       "    </tr>\n",
       "  </thead>\n",
       "  <tbody>\n",
       "    <tr>\n",
       "      <th>count</th>\n",
       "      <td>1080.000000</td>\n",
       "      <td>1209.000000</td>\n",
       "      <td>1209.000000</td>\n",
       "      <td>1209.000000</td>\n",
       "      <td>1209.000000</td>\n",
       "      <td>1209.000000</td>\n",
       "      <td>1209.000000</td>\n",
       "    </tr>\n",
       "    <tr>\n",
       "      <th>mean</th>\n",
       "      <td>4.784056</td>\n",
       "      <td>4.170389</td>\n",
       "      <td>26.087039</td>\n",
       "      <td>127.334988</td>\n",
       "      <td>0.479735</td>\n",
       "      <td>6.206485</td>\n",
       "      <td>-75.569193</td>\n",
       "    </tr>\n",
       "    <tr>\n",
       "      <th>std</th>\n",
       "      <td>0.193218</td>\n",
       "      <td>2.583202</td>\n",
       "      <td>25.907068</td>\n",
       "      <td>96.150335</td>\n",
       "      <td>0.499796</td>\n",
       "      <td>0.026394</td>\n",
       "      <td>0.015889</td>\n",
       "    </tr>\n",
       "    <tr>\n",
       "      <th>min</th>\n",
       "      <td>3.500000</td>\n",
       "      <td>1.000000</td>\n",
       "      <td>0.000000</td>\n",
       "      <td>50.000000</td>\n",
       "      <td>0.000000</td>\n",
       "      <td>5.873290</td>\n",
       "      <td>-75.694700</td>\n",
       "    </tr>\n",
       "    <tr>\n",
       "      <th>25%</th>\n",
       "      <td>4.700000</td>\n",
       "      <td>2.000000</td>\n",
       "      <td>5.030000</td>\n",
       "      <td>65.000000</td>\n",
       "      <td>0.000000</td>\n",
       "      <td>6.200000</td>\n",
       "      <td>-75.573000</td>\n",
       "    </tr>\n",
       "    <tr>\n",
       "      <th>50%</th>\n",
       "      <td>4.820000</td>\n",
       "      <td>4.000000</td>\n",
       "      <td>18.090000</td>\n",
       "      <td>90.000000</td>\n",
       "      <td>0.000000</td>\n",
       "      <td>6.208510</td>\n",
       "      <td>-75.567640</td>\n",
       "    </tr>\n",
       "    <tr>\n",
       "      <th>75%</th>\n",
       "      <td>4.920000</td>\n",
       "      <td>5.000000</td>\n",
       "      <td>39.200000</td>\n",
       "      <td>144.000000</td>\n",
       "      <td>1.000000</td>\n",
       "      <td>6.212040</td>\n",
       "      <td>-75.563890</td>\n",
       "    </tr>\n",
       "    <tr>\n",
       "      <th>max</th>\n",
       "      <td>5.000000</td>\n",
       "      <td>16.000000</td>\n",
       "      <td>100.000000</td>\n",
       "      <td>500.000000</td>\n",
       "      <td>1.000000</td>\n",
       "      <td>6.260850</td>\n",
       "      <td>-75.472810</td>\n",
       "    </tr>\n",
       "  </tbody>\n",
       "</table>\n",
       "</div>"
      ],
      "text/plain": [
       "             stars  numberOfGuests  occupancyPercentage  pricepernight  \\\n",
       "count  1080.000000     1209.000000          1209.000000    1209.000000   \n",
       "mean      4.784056        4.170389            26.087039     127.334988   \n",
       "std       0.193218        2.583202            25.907068      96.150335   \n",
       "min       3.500000        1.000000             0.000000      50.000000   \n",
       "25%       4.700000        2.000000             5.030000      65.000000   \n",
       "50%       4.820000        4.000000            18.090000      90.000000   \n",
       "75%       4.920000        5.000000            39.200000     144.000000   \n",
       "max       5.000000       16.000000           100.000000     500.000000   \n",
       "\n",
       "         superhost     latitude    longitude  \n",
       "count  1209.000000  1209.000000  1209.000000  \n",
       "mean      0.479735     6.206485   -75.569193  \n",
       "std       0.499796     0.026394     0.015889  \n",
       "min       0.000000     5.873290   -75.694700  \n",
       "25%       0.000000     6.200000   -75.573000  \n",
       "50%       0.000000     6.208510   -75.567640  \n",
       "75%       1.000000     6.212040   -75.563890  \n",
       "max       1.000000     6.260850   -75.472810  "
      ]
     },
     "execution_count": 14,
     "metadata": {},
     "output_type": "execute_result"
    }
   ],
   "source": [
    "df.describe()\n",
    "    "
   ]
  },
  {
   "cell_type": "code",
   "execution_count": 15,
   "metadata": {},
   "outputs": [
    {
     "name": "stderr",
     "output_type": "stream",
     "text": [
      "/var/folders/w3/99h1kkws5yj6c5ys1nc854gc0000gn/T/ipykernel_13972/1134722465.py:1: FutureWarning: The default value of numeric_only in DataFrame.corr is deprecated. In a future version, it will default to False. Select only valid columns or specify the value of numeric_only to silence this warning.\n",
      "  df.corr()\n"
     ]
    },
    {
     "data": {
      "text/html": [
       "<div>\n",
       "<style scoped>\n",
       "    .dataframe tbody tr th:only-of-type {\n",
       "        vertical-align: middle;\n",
       "    }\n",
       "\n",
       "    .dataframe tbody tr th {\n",
       "        vertical-align: top;\n",
       "    }\n",
       "\n",
       "    .dataframe thead th {\n",
       "        text-align: right;\n",
       "    }\n",
       "</style>\n",
       "<table border=\"1\" class=\"dataframe\">\n",
       "  <thead>\n",
       "    <tr style=\"text-align: right;\">\n",
       "      <th></th>\n",
       "      <th>stars</th>\n",
       "      <th>numberOfGuests</th>\n",
       "      <th>occupancyPercentage</th>\n",
       "      <th>pricepernight</th>\n",
       "      <th>superhost</th>\n",
       "      <th>latitude</th>\n",
       "      <th>longitude</th>\n",
       "    </tr>\n",
       "  </thead>\n",
       "  <tbody>\n",
       "    <tr>\n",
       "      <th>stars</th>\n",
       "      <td>1.000000</td>\n",
       "      <td>-0.029650</td>\n",
       "      <td>0.090068</td>\n",
       "      <td>0.036964</td>\n",
       "      <td>0.421232</td>\n",
       "      <td>-0.015591</td>\n",
       "      <td>0.025999</td>\n",
       "    </tr>\n",
       "    <tr>\n",
       "      <th>numberOfGuests</th>\n",
       "      <td>-0.029650</td>\n",
       "      <td>1.000000</td>\n",
       "      <td>0.055252</td>\n",
       "      <td>0.599661</td>\n",
       "      <td>-0.177496</td>\n",
       "      <td>-0.264480</td>\n",
       "      <td>0.071104</td>\n",
       "    </tr>\n",
       "    <tr>\n",
       "      <th>occupancyPercentage</th>\n",
       "      <td>0.090068</td>\n",
       "      <td>0.055252</td>\n",
       "      <td>1.000000</td>\n",
       "      <td>-0.133949</td>\n",
       "      <td>0.063160</td>\n",
       "      <td>-0.033653</td>\n",
       "      <td>-0.000471</td>\n",
       "    </tr>\n",
       "    <tr>\n",
       "      <th>pricepernight</th>\n",
       "      <td>0.036964</td>\n",
       "      <td>0.599661</td>\n",
       "      <td>-0.133949</td>\n",
       "      <td>1.000000</td>\n",
       "      <td>-0.167271</td>\n",
       "      <td>-0.207553</td>\n",
       "      <td>0.178706</td>\n",
       "    </tr>\n",
       "    <tr>\n",
       "      <th>superhost</th>\n",
       "      <td>0.421232</td>\n",
       "      <td>-0.177496</td>\n",
       "      <td>0.063160</td>\n",
       "      <td>-0.167271</td>\n",
       "      <td>1.000000</td>\n",
       "      <td>0.162519</td>\n",
       "      <td>-0.056738</td>\n",
       "    </tr>\n",
       "    <tr>\n",
       "      <th>latitude</th>\n",
       "      <td>-0.015591</td>\n",
       "      <td>-0.264480</td>\n",
       "      <td>-0.033653</td>\n",
       "      <td>-0.207553</td>\n",
       "      <td>0.162519</td>\n",
       "      <td>1.000000</td>\n",
       "      <td>-0.101320</td>\n",
       "    </tr>\n",
       "    <tr>\n",
       "      <th>longitude</th>\n",
       "      <td>0.025999</td>\n",
       "      <td>0.071104</td>\n",
       "      <td>-0.000471</td>\n",
       "      <td>0.178706</td>\n",
       "      <td>-0.056738</td>\n",
       "      <td>-0.101320</td>\n",
       "      <td>1.000000</td>\n",
       "    </tr>\n",
       "  </tbody>\n",
       "</table>\n",
       "</div>"
      ],
      "text/plain": [
       "                        stars  numberOfGuests  occupancyPercentage  \\\n",
       "stars                1.000000       -0.029650             0.090068   \n",
       "numberOfGuests      -0.029650        1.000000             0.055252   \n",
       "occupancyPercentage  0.090068        0.055252             1.000000   \n",
       "pricepernight        0.036964        0.599661            -0.133949   \n",
       "superhost            0.421232       -0.177496             0.063160   \n",
       "latitude            -0.015591       -0.264480            -0.033653   \n",
       "longitude            0.025999        0.071104            -0.000471   \n",
       "\n",
       "                     pricepernight  superhost  latitude  longitude  \n",
       "stars                     0.036964   0.421232 -0.015591   0.025999  \n",
       "numberOfGuests            0.599661  -0.177496 -0.264480   0.071104  \n",
       "occupancyPercentage      -0.133949   0.063160 -0.033653  -0.000471  \n",
       "pricepernight             1.000000  -0.167271 -0.207553   0.178706  \n",
       "superhost                -0.167271   1.000000  0.162519  -0.056738  \n",
       "latitude                 -0.207553   0.162519  1.000000  -0.101320  \n",
       "longitude                 0.178706  -0.056738 -0.101320   1.000000  "
      ]
     },
     "execution_count": 15,
     "metadata": {},
     "output_type": "execute_result"
    }
   ],
   "source": [
    "df.corr()"
   ]
  },
  {
   "cell_type": "code",
   "execution_count": 16,
   "metadata": {},
   "outputs": [
    {
     "data": {
      "text/plain": [
       "apartamento    1083\n",
       "casa             64\n",
       "hotel            53\n",
       "Name: propertyType, dtype: int64"
      ]
     },
     "execution_count": 16,
     "metadata": {},
     "output_type": "execute_result"
    }
   ],
   "source": [
    "df.propertyType.value_counts()"
   ]
  },
  {
   "cell_type": "code",
   "execution_count": 17,
   "metadata": {},
   "outputs": [
    {
     "data": {
      "text/plain": [
       "<Axes: >"
      ]
     },
     "execution_count": 17,
     "metadata": {},
     "output_type": "execute_result"
    },
    {
     "data": {
      "image/png": "[encoded data removed]",
      "text/plain": [
       "<Figure size 640x480 with 1 Axes>"
      ]
     },
     "metadata": {},
     "output_type": "display_data"
    }
   ],
   "source": [
    "df.stars.hist()"
   ]
  },
  {
   "cell_type": "code",
   "execution_count": 18,
   "metadata": {},
   "outputs": [
    {
     "data": {
      "text/plain": [
       "<Axes: >"
      ]
     },
     "execution_count": 18,
     "metadata": {},
     "output_type": "execute_result"
    },
    {
     "data": {
      "image/png": "[encoded data removed]",
      "text/plain": [
       "<Figure size 640x480 with 1 Axes>"
      ]
     },
     "metadata": {},
     "output_type": "display_data"
    }
   ],
   "source": [
    "df.numberOfGuests.hist()"
   ]
  },
  {
   "cell_type": "code",
   "execution_count": 19,
   "metadata": {},
   "outputs": [
    {
     "data": {
      "text/plain": [
       "<Axes: >"
      ]
     },
     "execution_count": 19,
     "metadata": {},
     "output_type": "execute_result"
    },
    {
     "data": {
      "image/png": "[encoded data removed]",
      "text/plain": [
       "<Figure size 640x480 with 1 Axes>"
      ]
     },
     "metadata": {},
     "output_type": "display_data"
    }
   ],
   "source": [
    "df.occupancyPercentage.hist()"
   ]
  },
  {
   "cell_type": "code",
   "execution_count": 20,
   "metadata": {},
   "outputs": [
    {
     "data": {
      "text/plain": [
       "<Axes: >"
      ]
     },
     "execution_count": 20,
     "metadata": {},
     "output_type": "execute_result"
    },
    {
     "data": {
      "image/png": "[encoded data removed]",
      "text/plain": [
       "<Figure size 640x480 with 1 Axes>"
      ]
     },
     "metadata": {},
     "output_type": "display_data"
    }
   ],
   "source": [
    "df.pricepernight.hist()"
   ]
  },
  {
   "cell_type": "code",
   "execution_count": 21,
   "metadata": {},
   "outputs": [
    {
     "data": {
      "text/plain": [
       "<Axes: >"
      ]
     },
     "execution_count": 21,
     "metadata": {},
     "output_type": "execute_result"
    },
    {
     "data": {
      "image/png": "[encoded data removed]",
      "text/plain": [
       "<Figure size 640x480 with 1 Axes>"
      ]
     },
     "metadata": {},
     "output_type": "display_data"
    }
   ],
   "source": [
    "df.superhost.hist()"
   ]
  },
  {
   "cell_type": "code",
   "execution_count": 28,
   "metadata": {},
   "outputs": [
    {
     "data": {
      "text/html": [
       "<div>\n",
       "<style scoped>\n",
       "    .dataframe tbody tr th:only-of-type {\n",
       "        vertical-align: middle;\n",
       "    }\n",
       "\n",
       "    .dataframe tbody tr th {\n",
       "        vertical-align: top;\n",
       "    }\n",
       "\n",
       "    .dataframe thead th {\n",
       "        text-align: right;\n",
       "    }\n",
       "</style>\n",
       "<table border=\"1\" class=\"dataframe\">\n",
       "  <thead>\n",
       "    <tr style=\"text-align: right;\">\n",
       "      <th></th>\n",
       "      <th>url</th>\n",
       "      <th>name</th>\n",
       "      <th>stars</th>\n",
       "      <th>numberOfGuests</th>\n",
       "      <th>address</th>\n",
       "      <th>roomType</th>\n",
       "      <th>location</th>\n",
       "      <th>reviews</th>\n",
       "      <th>pricing</th>\n",
       "      <th>photos</th>\n",
       "      <th>primaryHost</th>\n",
       "      <th>additionalHosts</th>\n",
       "      <th>isHostedBySuperhost</th>\n",
       "      <th>isAvailable</th>\n",
       "      <th>calendar</th>\n",
       "      <th>occupancyPercentage</th>\n",
       "    </tr>\n",
       "  </thead>\n",
       "  <tbody>\n",
       "    <tr>\n",
       "      <th>8</th>\n",
       "      <td>https://www.airbnb.com/rooms/48565412</td>\n",
       "      <td>Cerca a provenza, último piso</td>\n",
       "      <td>4.62</td>\n",
       "      <td>6</td>\n",
       "      <td>Medellín, Antioquia, Colombia</td>\n",
       "      <td>Alojamiento entero: piso</td>\n",
       "      <td>{'lat': 6.1974, 'lng': -75.56244}</td>\n",
       "      <td>[]</td>\n",
       "      <td>{'rate': {'amount': 179, 'amountFormatted': '$...</td>\n",
       "      <td>[{'caption': '', 'pictureUrl': 'https://a0.mus...</td>\n",
       "      <td>{'id': 232415002, 'firstName': 'Propiedades Y ...</td>\n",
       "      <td>[]</td>\n",
       "      <td>False</td>\n",
       "      <td>1.0</td>\n",
       "      <td>[{'available': False, 'date': '2023-06-15'}, {...</td>\n",
       "      <td>100.0</td>\n",
       "    </tr>\n",
       "    <tr>\n",
       "      <th>14</th>\n",
       "      <td>https://www.airbnb.com/rooms/31169683</td>\n",
       "      <td>Poblado Waterfall Penthouse</td>\n",
       "      <td>NaN</td>\n",
       "      <td>8</td>\n",
       "      <td>Medellín, Antioquia, Colombia</td>\n",
       "      <td>Alojamiento entero: piso</td>\n",
       "      <td>{'lat': 6.20882, 'lng': -75.57433}</td>\n",
       "      <td>[]</td>\n",
       "      <td>{'rate': {'amount': 160, 'amountFormatted': '$...</td>\n",
       "      <td>[{'caption': 'Jacuzzi with custom waterfall fo...</td>\n",
       "      <td>{'id': 56427964, 'firstName': 'James', 'isSupe...</td>\n",
       "      <td>[{'id': 446836447, 'firstName': 'Medellin Conc...</td>\n",
       "      <td>False</td>\n",
       "      <td>1.0</td>\n",
       "      <td>[{'available': False, 'date': '2023-06-15'}, {...</td>\n",
       "      <td>100.0</td>\n",
       "    </tr>\n",
       "  </tbody>\n",
       "</table>\n",
       "</div>"
      ],
      "text/plain": [
       "                                      url                           name  \\\n",
       "8   https://www.airbnb.com/rooms/48565412  Cerca a provenza, último piso   \n",
       "14  https://www.airbnb.com/rooms/31169683    Poblado Waterfall Penthouse   \n",
       "\n",
       "    stars  numberOfGuests                        address  \\\n",
       "8    4.62               6  Medellín, Antioquia, Colombia   \n",
       "14    NaN               8  Medellín, Antioquia, Colombia   \n",
       "\n",
       "                    roomType                            location reviews  \\\n",
       "8   Alojamiento entero: piso   {'lat': 6.1974, 'lng': -75.56244}      []   \n",
       "14  Alojamiento entero: piso  {'lat': 6.20882, 'lng': -75.57433}      []   \n",
       "\n",
       "                                              pricing  \\\n",
       "8   {'rate': {'amount': 179, 'amountFormatted': '$...   \n",
       "14  {'rate': {'amount': 160, 'amountFormatted': '$...   \n",
       "\n",
       "                                               photos  \\\n",
       "8   [{'caption': '', 'pictureUrl': 'https://a0.mus...   \n",
       "14  [{'caption': 'Jacuzzi with custom waterfall fo...   \n",
       "\n",
       "                                          primaryHost  \\\n",
       "8   {'id': 232415002, 'firstName': 'Propiedades Y ...   \n",
       "14  {'id': 56427964, 'firstName': 'James', 'isSupe...   \n",
       "\n",
       "                                      additionalHosts  isHostedBySuperhost  \\\n",
       "8                                                  []                False   \n",
       "14  [{'id': 446836447, 'firstName': 'Medellin Conc...                False   \n",
       "\n",
       "    isAvailable                                           calendar  \\\n",
       "8           1.0  [{'available': False, 'date': '2023-06-15'}, {...   \n",
       "14          1.0  [{'available': False, 'date': '2023-06-15'}, {...   \n",
       "\n",
       "    occupancyPercentage  \n",
       "8                 100.0  \n",
       "14                100.0  "
      ]
     },
     "execution_count": 28,
     "metadata": {},
     "output_type": "execute_result"
    }
   ],
   "source": [
    "highoccup = data[data.occupancyPercentage > 80]\n",
    "highoccup.head(2)"
   ]
  },
  {
   "cell_type": "code",
   "execution_count": 22,
   "metadata": {},
   "outputs": [
    {
     "ename": "ModuleNotFoundError",
     "evalue": "No module named 'folium'",
     "output_type": "error",
     "traceback": [
      "\u001b[0;31m---------------------------------------------------------------------------\u001b[0m",
      "\u001b[0;31mModuleNotFoundError\u001b[0m                       Traceback (most recent call last)",
      "Cell \u001b[0;32mIn[22], line 1\u001b[0m\n\u001b[0;32m----> 1\u001b[0m \u001b[39mimport\u001b[39;00m \u001b[39mfolium\u001b[39;00m\n\u001b[1;32m      2\u001b[0m \u001b[39mimport\u001b[39;00m \u001b[39mbranca\u001b[39;00m\n\u001b[1;32m      4\u001b[0m \u001b[39m# Create a map centered at an initial point\u001b[39;00m\n",
      "\u001b[0;31mModuleNotFoundError\u001b[0m: No module named 'folium'"
     ]
    }
   ],
   "source": [
    "import folium\n",
    "import branca\n",
    "\n",
    "# Create a map centered at an initial point\n",
    "map = folium.Map(location=[6.225, -75.5812], zoom_start=14)\n",
    "\n",
    "# Create a colormap for the color coding\n",
    "colormap = branca.colormap.linear.YlOrRd_09.scale(df.pricepernight.min(), df.pricepernight.max())\n",
    "\n",
    "\n",
    "for i, row in df.iterrows():\n",
    "    #folium.Marker([row['latitude'], row['longitude']]).add_to(map)\n",
    "    folium.CircleMarker(\n",
    "        location=[row['latitude'], row['longitude']], radius=5,\n",
    "        color=colormap(row['pricepernight']),\n",
    "        fill=True,\n",
    "        fill_color=colormap(row['pricepernight']),\n",
    "        fill_opacity=0.7\n",
    "    ).add_to(map)\n",
    "\n",
    "map\n"
   ]
  },
  {
   "cell_type": "code",
   "execution_count": null,
   "metadata": {},
   "outputs": [],
   "source": []
  },
  {
   "cell_type": "code",
   "execution_count": null,
   "metadata": {},
   "outputs": [],
   "source": []
  }
 ],
 "metadata": {
  "kernelspec": {
   "display_name": "juanpy",
   "language": "python",
   "name": "python3"
  },
  "language_info": {
   "codemirror_mode": {
    "name": "ipython",
    "version": 3
   },
   "file_extension": ".py",
   "mimetype": "text/x-python",
   "name": "python",
   "nbconvert_exporter": "python",
   "pygments_lexer": "ipython3",
   "version": "3.11.4"
  },
  "orig_nbformat": 4
 },
 "nbformat": 4,
 "nbformat_minor": 2
}
